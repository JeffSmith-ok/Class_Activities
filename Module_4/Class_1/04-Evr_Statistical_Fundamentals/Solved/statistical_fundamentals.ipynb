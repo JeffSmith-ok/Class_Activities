{
 "cells": [
  {
   "cell_type": "markdown",
   "metadata": {},
   "source": [
    "# Statisticals Fundamentals\n",
    "\n",
    "In this activity, students will code along with the instructor to get the opportunity to practice using statistical fundamentals to create a report for a group of stocks. The report will give a recommendation for each stock on whether it is over or under valued and more or less volatile than the market."
   ]
  },
  {
   "cell_type": "markdown",
   "metadata": {},
   "source": [
    "## Importing Required Modules"
   ]
  },
  {
   "cell_type": "code",
   "execution_count": 1,
   "metadata": {},
   "outputs": [],
   "source": [
    "# Import modules\n",
    "import pandas as pd\n",
    "from pathlib import Path\n",
    "import matplotlib.pyplot as plt"
   ]
  },
  {
   "cell_type": "markdown",
   "metadata": {},
   "source": [
    "## Loading the Stocks Data\n",
    "\n",
    "  - Each CSV file contains a stock's closing price and the date of the closing price.\n",
    "\n",
    "  - Create a `Path` object for each CSV filepath."
   ]
  },
  {
   "cell_type": "code",
   "execution_count": 2,
   "metadata": {},
   "outputs": [],
   "source": [
    "# Set paths to CSV files\n",
    "hd_csv_path = Path(\"../Resources/HD.csv\")\n",
    "intc_csv_path = Path(\"../Resources/INTC.csv\")\n",
    "mu_csv_path = Path(\"../Resources/MU.csv\")\n",
    "nvda_csv_path = Path(\"../Resources/NVDA.csv\")\n",
    "tsla_csv_path = Path(\"../Resources/TSLA.csv\")\n",
    "sp500_path = Path(\"../Resources/sp500.csv\")"
   ]
  },
  {
   "cell_type": "markdown",
   "metadata": {},
   "source": [
    "For each CSV file read the data into a `pandas` `DataFrame`.\n",
    "\n",
    "  - Set the index column to be the date.\n",
    "\n",
    "  - Infer the date time format.\n",
    "\n",
    "  - Parse all dates when the CSV file is loaded."
   ]
  },
  {
   "cell_type": "code",
   "execution_count": 3,
   "metadata": {},
   "outputs": [],
   "source": [
    "# Read in CSV files\n",
    "hd_df = pd.read_csv(\n",
    "    hd_csv_path, \n",
    "    index_col=\"date\", \n",
    "    infer_datetime_format=True, \n",
    "    parse_dates=True\n",
    ")\n",
    "intc_df = pd.read_csv(\n",
    "    intc_csv_path, \n",
    "    index_col=\"date\", \n",
    "    infer_datetime_format=True, \n",
    "    parse_dates=True\n",
    ")\n",
    "mu_df = pd.read_csv(\n",
    "    mu_csv_path, \n",
    "    index_col=\"date\", \n",
    "    infer_datetime_format=True, \n",
    "    parse_dates=True\n",
    ")\n",
    "nvda_df = pd.read_csv(\n",
    "    nvda_csv_path, \n",
    "    index_col=\"date\", \n",
    "    infer_datetime_format=True, \n",
    "    parse_dates=True\n",
    ")\n",
    "tsla_df = pd.read_csv(\n",
    "    tsla_csv_path, \n",
    "    index_col=\"date\", \n",
    "    infer_datetime_format=True, \n",
    "    parse_dates=True\n",
    ")\n",
    "\n",
    "sp500_df = pd.read_csv(\n",
    "    sp500_path, \n",
    "    index_col=\"date\", \n",
    "    infer_datetime_format=True, \n",
    "    parse_dates=True\n",
    ")"
   ]
  },
  {
   "cell_type": "markdown",
   "metadata": {},
   "source": [
    "## Coding Statistical Measures in Python\n",
    "\n",
    "### Create a function named `calculate_mean`\n",
    "\n",
    "   - Calculate mean should return the average value for a given `list` or `Series`.\n",
    "\n",
    "   - $\\mu = \\frac{\\sum{x_{i}}}{n}$\n",
    "\n",
    "   - Choose a function name that will not conflict with any modules that may have been imported."
   ]
  },
  {
   "cell_type": "code",
   "execution_count": 4,
   "metadata": {},
   "outputs": [],
   "source": [
    "# Create a function named 'calculate_mean'.\n",
    "def calculate_mean(data_set):\n",
    "    sum = 0\n",
    "    length = 0\n",
    "    for value in data_set:\n",
    "        sum = sum + value\n",
    "        length = length + 1\n",
    "    result = sum / length\n",
    "    return result"
   ]
  },
  {
   "cell_type": "code",
   "execution_count": 64,
   "metadata": {},
   "outputs": [
    {
     "name": "stdout",
     "output_type": "stream",
     "text": [
      "0    3.0\n",
      "dtype: float64\n"
     ]
    }
   ],
   "source": [
    "# Test the `calculate_mean` function\n",
    "data = [1, 2, 3, 4, 5]\n",
    "data_df = pd.DataFrame(data=data)\n",
    "\n",
    "#print(calculate_mean(data))\n",
    "print(data_df.mean())"
   ]
  },
  {
   "cell_type": "markdown",
   "metadata": {},
   "source": [
    "### Create a function named `calculate_variance`\n",
    "   - Variance is the squared average change around the mean.\n",
    "\n",
    "   - ${S}^2 = \\frac{\\sum{ (x_{i} - \\mu })^{2}}{ n - 1}$\n"
   ]
  },
  {
   "cell_type": "code",
   "execution_count": 65,
   "metadata": {},
   "outputs": [],
   "source": [
    "# Create a function named 'calculate_variance'.\n",
    "def calculate_variance(data_set):\n",
    "    sum = 0\n",
    "    length = 0\n",
    "    mean_value = calculate_mean(data_set)\n",
    "    for value in data_set:\n",
    "        sum = sum + (value - mean_value) ** 2\n",
    "        length = length + 1\n",
    "    result = sum / (length - 1) \n",
    "    return result"
   ]
  },
  {
   "cell_type": "code",
   "execution_count": 93,
   "metadata": {},
   "outputs": [
    {
     "name": "stdout",
     "output_type": "stream",
     "text": [
      "0    2.5\n",
      "dtype: float64\n"
     ]
    }
   ],
   "source": [
    "# Test the `calculate_variance` function\n",
    "data = [1, 2, 3, 4, 5]\n",
    "#print(calculate_variance(data))\n",
    "print(data_df.var())"
   ]
  },
  {
   "cell_type": "markdown",
   "metadata": {},
   "source": [
    "### Create a function named `calculate_standard_deviation`\n",
    "\n",
    " - The standard deviation is the square root of the variance.\n",
    "\n",
    " - $\\sigma = \\sqrt{S^{2}}$"
   ]
  },
  {
   "cell_type": "code",
   "execution_count": 94,
   "metadata": {},
   "outputs": [],
   "source": [
    "# Create a function named 'calculate_standard_deviation'.\n",
    "def calculate_standard_deviation(data_set):\n",
    "    return (calculate_variance(data_set)) ** (1 / 2)"
   ]
  },
  {
   "cell_type": "code",
   "execution_count": 116,
   "metadata": {},
   "outputs": [
    {
     "name": "stdout",
     "output_type": "stream",
     "text": [
      "0    1.581139\n",
      "dtype: float64\n"
     ]
    }
   ],
   "source": [
    "# Test the `calculate_standard_deviation` function\n",
    "data = [1, 2, 3, 4, 5]\n",
    "print(calculate_standard_deviation(data))\n",
    "\n",
    "print(data_df.std())"
   ]
  },
  {
   "cell_type": "markdown",
   "metadata": {},
   "source": [
    "## Coding Helper Functions\n",
    "\n",
    "### Create a function named `check_value`\n",
    "\n",
    "   - The function should compare the most recent price of the asset to it's mean price.\n",
    "\n",
    "   - If the most recent price is greater than the mean price the asset is over-valued.\n",
    "\n",
    "   - If the most recent price is under than the mean price the asset is under-valued.\n",
    "\n",
    "   - If neither case is true then the most recent price must be at the mean price."
   ]
  },
  {
   "cell_type": "code",
   "execution_count": 117,
   "metadata": {},
   "outputs": [],
   "source": [
    "# Create a function to check to most recent price against the mean price to determine if the stock is overvalued.\n",
    "def check_value(current_price, mean_price):\n",
    "    if current_price > mean_price:\n",
    "        print(\"Overvalued\")\n",
    "    elif current_price < mean_price:\n",
    "        print(\"Undervalued\")\n",
    "    else:\n",
    "        print(\"Price is at mean value.\")"
   ]
  },
  {
   "cell_type": "markdown",
   "metadata": {},
   "source": [
    "### Create a function named `compare_volatility`\n",
    "   \n",
    "   - The function should compare the standard deviation of an assets price change percentage to a market's.\n",
    "\n",
    "   - If the asset's standard deviation is greater than the market's the stock is more volatile otherwise it's less volatile."
   ]
  },
  {
   "cell_type": "code",
   "execution_count": 118,
   "metadata": {},
   "outputs": [],
   "source": [
    "# Create a function to compare the volatility with the underlying market\n",
    "def compare_volatility(stock_std, market_std):\n",
    "    if stock_std > market_std:\n",
    "        print(\"The stock is more volatile than the market.\")\n",
    "    else:\n",
    "        print(\"The stock is less volatile than the market.\")"
   ]
  },
  {
   "cell_type": "markdown",
   "metadata": {},
   "source": [
    "## Coding the Stocks Report\n",
    "\n",
    "### Calculate the Daily Percent Change for the SP500"
   ]
  },
  {
   "cell_type": "code",
   "execution_count": 119,
   "metadata": {},
   "outputs": [
    {
     "data": {
      "text/html": [
       "<div>\n",
       "<style scoped>\n",
       "    .dataframe tbody tr th:only-of-type {\n",
       "        vertical-align: middle;\n",
       "    }\n",
       "\n",
       "    .dataframe tbody tr th {\n",
       "        vertical-align: top;\n",
       "    }\n",
       "\n",
       "    .dataframe thead th {\n",
       "        text-align: right;\n",
       "    }\n",
       "</style>\n",
       "<table border=\"1\" class=\"dataframe\">\n",
       "  <thead>\n",
       "    <tr style=\"text-align: right;\">\n",
       "      <th></th>\n",
       "      <th>close</th>\n",
       "      <th>pct_change</th>\n",
       "    </tr>\n",
       "    <tr>\n",
       "      <th>date</th>\n",
       "      <th></th>\n",
       "      <th></th>\n",
       "    </tr>\n",
       "  </thead>\n",
       "  <tbody>\n",
       "    <tr>\n",
       "      <th>2014-06-06</th>\n",
       "      <td>1949.44</td>\n",
       "      <td>0.004628</td>\n",
       "    </tr>\n",
       "    <tr>\n",
       "      <th>2014-06-09</th>\n",
       "      <td>1951.27</td>\n",
       "      <td>0.000939</td>\n",
       "    </tr>\n",
       "    <tr>\n",
       "      <th>2014-06-10</th>\n",
       "      <td>1950.79</td>\n",
       "      <td>-0.000246</td>\n",
       "    </tr>\n",
       "    <tr>\n",
       "      <th>2014-06-11</th>\n",
       "      <td>1943.89</td>\n",
       "      <td>-0.003537</td>\n",
       "    </tr>\n",
       "    <tr>\n",
       "      <th>2014-06-12</th>\n",
       "      <td>1930.11</td>\n",
       "      <td>-0.007089</td>\n",
       "    </tr>\n",
       "  </tbody>\n",
       "</table>\n",
       "</div>"
      ],
      "text/plain": [
       "              close  pct_change\n",
       "date                           \n",
       "2014-06-06  1949.44    0.004628\n",
       "2014-06-09  1951.27    0.000939\n",
       "2014-06-10  1950.79   -0.000246\n",
       "2014-06-11  1943.89   -0.003537\n",
       "2014-06-12  1930.11   -0.007089"
      ]
     },
     "execution_count": 119,
     "metadata": {},
     "output_type": "execute_result"
    }
   ],
   "source": [
    "# Calculate the daily percent changes for sp500 and drop n/a values\n",
    "sp500_df[\"pct_change\"] = sp500_df[\"close\"].pct_change()\n",
    "sp500_df = sp500_df.dropna()\n",
    "sp500_df.head()"
   ]
  },
  {
   "cell_type": "markdown",
   "metadata": {},
   "source": [
    "## Calculate the Standard Deviation for the SP500"
   ]
  },
  {
   "cell_type": "code",
   "execution_count": 120,
   "metadata": {},
   "outputs": [
    {
     "name": "stdout",
     "output_type": "stream",
     "text": [
      "0.008414823769215776\n"
     ]
    }
   ],
   "source": [
    "# Calculate the standard deviation for the sp500\n",
    "sp500_std = calculate_standard_deviation(sp500_df[\"pct_change\"])\n",
    "print(sp500_std)"
   ]
  },
  {
   "cell_type": "markdown",
   "metadata": {},
   "source": [
    "### Create a Python Dictionary of Stocks to Run the Report On\n",
    "   \n",
    "   - Map each stock name to it's dataframe\n",
    "\n",
    "   - Do not include the SP500\n",
    "\n",
    "   - Example: stocks_to_check = {\"stock_name\" : stock_df}"
   ]
  },
  {
   "cell_type": "code",
   "execution_count": 121,
   "metadata": {},
   "outputs": [],
   "source": [
    "# Create a dictionary for all stocks except the sp500\n",
    "stocks_to_check = {\n",
    "    \"Home Depot\": hd_df,\n",
    "    \"Intel\": intc_df,\n",
    "    \"Micron Tech.\": mu_df,\n",
    "    \"NVIDIA\": nvda_df,\n",
    "    \"Tesla\": tsla_df,\n",
    "}"
   ]
  },
  {
   "cell_type": "markdown",
   "metadata": {},
   "source": [
    "### Generate the Report\n",
    "\n",
    "  - Loop through the dictionary of stocks.\n",
    "\n",
    "  - **Hint**: Use the `items()` method for dictionaries. You can read more on the [documentation page](https://docs.python.org/3/tutorial/datastructures.html#looping-techniques).\n",
    "\n",
    "  - For each stock:\n",
    "    * Calculate the daily percent change.\n",
    "    * Get the most recent price.\n",
    "    * Calculate the mean and standard deviation using the functions you created.\n",
    "    * Print the stock's name.\n",
    "    * Print the statistics that you calculated.\n",
    "    * Using `check_value` see if the stock is over or under valued.\n",
    "    * Using `compare_volatility` check if the stock is more or less volatile than the SP500\n",
    "    * Plot a box plot of the daily percent change"
   ]
  },
  {
   "cell_type": "code",
   "execution_count": 1,
   "metadata": {},
   "outputs": [
    {
     "ename": "NameError",
     "evalue": "name 'stocks_to_check' is not defined",
     "output_type": "error",
     "traceback": [
      "\u001b[1;31m---------------------------------------------------------------------------\u001b[0m",
      "\u001b[1;31mNameError\u001b[0m                                 Traceback (most recent call last)",
      "\u001b[1;32m~\\AppData\\Local\\Temp\\ipykernel_67472\\2036065880.py\u001b[0m in \u001b[0;36m<module>\u001b[1;34m\u001b[0m\n\u001b[0;32m      1\u001b[0m \u001b[1;31m# Loop through the stocks in the dictionary and compare their performance with the sp500.\u001b[0m\u001b[1;33m\u001b[0m\u001b[1;33m\u001b[0m\u001b[1;33m\u001b[0m\u001b[0m\n\u001b[1;32m----> 2\u001b[1;33m \u001b[1;32mfor\u001b[0m \u001b[0mstock_name\u001b[0m\u001b[1;33m,\u001b[0m \u001b[0mdataframe\u001b[0m \u001b[1;32min\u001b[0m \u001b[0mstocks_to_check\u001b[0m\u001b[1;33m.\u001b[0m\u001b[0mitems\u001b[0m\u001b[1;33m(\u001b[0m\u001b[1;33m)\u001b[0m\u001b[1;33m:\u001b[0m\u001b[1;33m\u001b[0m\u001b[1;33m\u001b[0m\u001b[0m\n\u001b[0m\u001b[0;32m      3\u001b[0m \u001b[1;33m\u001b[0m\u001b[0m\n\u001b[0;32m      4\u001b[0m     \u001b[1;31m# Calculate the daily percent change for each stock\u001b[0m\u001b[1;33m\u001b[0m\u001b[1;33m\u001b[0m\u001b[1;33m\u001b[0m\u001b[0m\n\u001b[0;32m      5\u001b[0m     \u001b[0mdataframe\u001b[0m\u001b[1;33m[\u001b[0m\u001b[1;34m\"pct_change\"\u001b[0m\u001b[1;33m]\u001b[0m \u001b[1;33m=\u001b[0m \u001b[0mdataframe\u001b[0m\u001b[1;33m[\u001b[0m\u001b[1;34m\"close\"\u001b[0m\u001b[1;33m]\u001b[0m\u001b[1;33m.\u001b[0m\u001b[0mpct_change\u001b[0m\u001b[1;33m(\u001b[0m\u001b[1;33m)\u001b[0m\u001b[1;33m\u001b[0m\u001b[1;33m\u001b[0m\u001b[0m\n",
      "\u001b[1;31mNameError\u001b[0m: name 'stocks_to_check' is not defined"
     ]
    }
   ],
   "source": [
    "# Loop through the stocks in the dictionary and compare their performance with the sp500.\n",
    "for stock_name, dataframe in stocks_to_check.items():\n",
    "\n",
    "    # Calculate the daily percent change for each stock\n",
    "    dataframe[\"pct_change\"] = dataframe[\"close\"].pct_change()\n",
    "    dataframe = dataframe.dropna()\n",
    "    dataframe.head()\n",
    "\n",
    "    # Get most recent price\n",
    "    stock_recent_price = dataframe[\"pct_change\"][-1]\n",
    "\n",
    "    # Calculate the mean price percent change\n",
    "    stock_mean = calculate_mean(dataframe[\"pct_change\"])\n",
    "    \n",
    "    # Calculate the standard deviation of the percent change\n",
    "    stock_std = calculate_standard_deviation(dataframe[\"pct_change\"])\n",
    "    \n",
    "    # Print the stock name and calculated statistics\n",
    "    print(f\"{stock_name}\\n\")\n",
    "    print(f\"Recent Price Pct: {stock_recent_price}\")\n",
    "    print(f\"Mean Price Pct: {stock_mean}\")\n",
    "    print(f\"Price Pct std. deviation: {stock_std}\")\n",
    "\n",
    "    # Using check_value, check if the stock is overvalued or not\n",
    "    check_value(stock_recent_price, stock_mean)\n",
    "\n",
    "    # Compare the stock's volatility with the market\n",
    "    compare_volatility(stock_std, sp500_std)\n",
    "\n",
    "    dataframe[\"pct_change\"].plot.box()\n",
    "    plt.show()\n",
    "    print(\"\\n\")"
   ]
  }
 ],
 "metadata": {
  "kernelspec": {
   "display_name": "Python 3.7.13 ('dev')",
   "language": "python",
   "name": "python3"
  },
  "language_info": {
   "codemirror_mode": {
    "name": "ipython",
    "version": 3
   },
   "file_extension": ".py",
   "mimetype": "text/x-python",
   "name": "python",
   "nbconvert_exporter": "python",
   "pygments_lexer": "ipython3",
   "version": "3.7.13"
  },
  "vscode": {
   "interpreter": {
    "hash": "bb4896eba2e43e817e326f95005b77416bfc5ca3345d6b1e7240300d542134ef"
   }
  }
 },
 "nbformat": 4,
 "nbformat_minor": 4
}
