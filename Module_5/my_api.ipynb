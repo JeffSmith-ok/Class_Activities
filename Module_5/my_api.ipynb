{
 "cells": [
  {
   "cell_type": "code",
   "execution_count": 4,
   "metadata": {},
   "outputs": [
    {
     "name": "stdout",
     "output_type": "stream",
     "text": [
      "{\n",
      "    \"data\": {\n",
      "        \"52\": {\n",
      "            \"circulating_supply\": 48343101197,\n",
      "            \"id\": 52,\n",
      "            \"last_updated\": 1657555152,\n",
      "            \"max_supply\": 99989535142,\n",
      "            \"name\": \"XRP\",\n",
      "            \"quotes\": {\n",
      "                \"USD\": {\n",
      "                    \"market_cap\": 15628978350,\n",
      "                    \"percent_change_1h\": 0.285675597361784,\n",
      "                    \"percent_change_24h\": -0.355176521479552,\n",
      "                    \"percent_change_7d\": 0.411061297439784,\n",
      "                    \"percentage_change_1h\": 0.285675597361784,\n",
      "                    \"percentage_change_24h\": -0.355176521479552,\n",
      "                    \"percentage_change_7d\": 0.411061297439784,\n",
      "                    \"price\": 0.323855,\n",
      "                    \"volume_24h\": 1009376849\n",
      "                }\n",
      "            },\n",
      "            \"rank\": 6,\n",
      "            \"symbol\": \"XRP\",\n",
      "            \"total_supply\": 48343101197,\n",
      "            \"website_slug\": \"ripple\"\n",
      "        }\n",
      "    },\n",
      "    \"metadata\": {\n",
      "        \"error\": null,\n",
      "        \"num_cryptocurrencies\": 3116,\n",
      "        \"timestamp\": 1657555152\n",
      "    }\n",
      "}\n",
      "The symbol for Ripple is XRP\n",
      "The price for Ripple is $0.323855\n"
     ]
    }
   ],
   "source": [
    "# Import the required libraries and dependencies\n",
    "import pandas as pd\n",
    "import requests\n",
    "import json\n",
    "\n",
    "\n",
    "# Set the Ripple endpoint\n",
    "xrp_url = \"https://api.alternative.me/v2/ticker/Ripple/\"\n",
    "\n",
    "# Fetch the current Ripple price\n",
    "response_xrp = requests.get(xrp_url).json()\n",
    "\n",
    "# Display response data\n",
    "print(json.dumps(response_xrp, indent=4, sort_keys=True))\n",
    "xrp_symbol = response_xrp['data']['52']['symbol']\n",
    "print(f\"The symbol for Ripple is {xrp_symbol}\")\n",
    "\n",
    "xrp_price = response_xrp['data']['52']['quotes']['USD']['price']\n",
    "print(f\"The price for Ripple is ${xrp_price}\")\n"
   ]
  }
 ],
 "metadata": {
  "kernelspec": {
   "display_name": "Python 3.7.13 ('dev')",
   "language": "python",
   "name": "python3"
  },
  "language_info": {
   "codemirror_mode": {
    "name": "ipython",
    "version": 3
   },
   "file_extension": ".py",
   "mimetype": "text/x-python",
   "name": "python",
   "nbconvert_exporter": "python",
   "pygments_lexer": "ipython3",
   "version": "3.7.13"
  },
  "orig_nbformat": 4,
  "vscode": {
   "interpreter": {
    "hash": "bb4896eba2e43e817e326f95005b77416bfc5ca3345d6b1e7240300d542134ef"
   }
  }
 },
 "nbformat": 4,
 "nbformat_minor": 2
}
